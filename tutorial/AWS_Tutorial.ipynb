{
 "cells": [
  {
   "cell_type": "code",
   "execution_count": 1,
   "metadata": {},
   "outputs": [],
   "source": [
    "from caelus.aws.auth import AWSAuth\n",
    "from caelus.aws.storages import S3Storage\n",
    "import logging"
   ]
  },
  {
   "cell_type": "code",
   "execution_count": 5,
   "metadata": {},
   "outputs": [],
   "source": [
    "aws_logger = logging.getLogger('aws')\n",
    "aws_logger.setLevel(logging.DEBUG)"
   ]
  },
  {
   "cell_type": "markdown",
   "source": [
    "## Authentication object with your profile name"
   ],
   "metadata": {
    "collapsed": false,
    "pycharm": {
     "name": "#%% md\n"
    }
   }
  },
  {
   "cell_type": "code",
   "execution_count": 6,
   "metadata": {},
   "outputs": [
    {
     "name": "stderr",
     "output_type": "stream",
     "text": [
      "16-04-20 18:07:30 | INFO | botocore.credentials | load | Found credentials in shared credentials file: ~/.aws/credentials\n"
     ]
    },
    {
     "name": "stdout",
     "output_type": "stream",
     "text": [
      "VGED/df_raw_201705.csv\n"
     ]
    }
   ],
   "source": [
    "auth = AWSAuth(profile_name='default')"
   ]
  },
  {
   "cell_type": "markdown",
   "source": [
    "## Create S3 object"
   ],
   "metadata": {
    "collapsed": false
   }
  },
  {
   "cell_type": "code",
   "execution_count": null,
   "outputs": [],
   "source": [
    "bucket_name = 'your-bucket-name'\n",
    "s3 = S3Storage(auth, bucket_name=bucket_name)"
   ],
   "metadata": {
    "collapsed": false,
    "pycharm": {
     "name": "#%%\n"
    }
   }
  },
  {
   "cell_type": "code",
   "execution_count": null,
   "outputs": [],
   "source": [
    "bucket_folder = 'your-bucket-folder'\n",
    "filter_extension = 'csv'\n",
    "\n",
    "files = s3.list_files(folder=bucket_folder, filter_extension=filter_extension)\n",
    "for file in files:\n",
    "    print(file)"
   ],
   "metadata": {
    "collapsed": false,
    "pycharm": {
     "name": "#%%\n"
    }
   }
  },
  {
   "cell_type": "markdown",
   "source": [
    "## Writing objects into a bucket"
   ],
   "metadata": {
    "collapsed": false,
    "pycharm": {
     "name": "#%% md\n"
    }
   }
  },
  {
   "cell_type": "code",
   "execution_count": 7,
   "metadata": {},
   "outputs": [
    {
     "name": "stderr",
     "output_type": "stream",
     "text": [
      "16-04-20 18:07:30 | DEBUG | aws | _get_bucket_path | Writing in: image_obj.jpeg\n"
     ]
    }
   ],
   "source": [
    "with open('image.jpeg', 'rb') as image:\n",
    "    s3.write_object(image, 'image_obj.jpeg')"
   ]
  },
  {
   "cell_type": "code",
   "execution_count": null,
   "metadata": {},
   "outputs": [],
   "source": [
    "s3.write_object_from_file('download.jpeg', 'image_file.jpeg')"
   ]
  },
  {
   "cell_type": "code",
   "execution_count": null,
   "metadata": {
    "pycharm": {
     "name": "#%%\n"
    }
   },
   "outputs": [],
   "source": [
    "a = dict(test='a')\n",
    "s3.write_json(a, 'json_test.json')"
   ]
  }
 ],
 "metadata": {
  "kernelspec": {
   "display_name": "Python [conda env:caelus] *",
   "language": "python",
   "name": "conda-env-caelus-py"
  },
  "language_info": {
   "codemirror_mode": {
    "name": "ipython",
    "version": 3
   },
   "file_extension": ".py",
   "mimetype": "text/x-python",
   "name": "python",
   "nbconvert_exporter": "python",
   "pygments_lexer": "ipython3",
   "version": "3.7.6"
  }
 },
 "nbformat": 4,
 "nbformat_minor": 2
}